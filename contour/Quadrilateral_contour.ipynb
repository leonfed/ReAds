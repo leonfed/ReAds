{
  "nbformat": 4,
  "nbformat_minor": 0,
  "metadata": {
    "colab": {
      "name": "Quadrilateral_contour.ipynb",
      "provenance": [],
      "collapsed_sections": [],
      "toc_visible": true
    },
    "kernelspec": {
      "name": "python3",
      "display_name": "Python 3"
    },
    "accelerator": "GPU"
  },
  "cells": [
    {
      "cell_type": "code",
      "metadata": {
        "id": "8G_RexWjRC8e"
      },
      "source": [
        "import torch\n",
        "import numpy as np\n",
        "import matplotlib.pylab as plt\n",
        "import cv2\n",
        "import os\n",
        "\n",
        "torch.set_default_tensor_type(torch.FloatTensor)"
      ],
      "execution_count": null,
      "outputs": []
    },
    {
      "cell_type": "code",
      "metadata": {
        "colab": {
          "base_uri": "https://localhost:8080/"
        },
        "id": "pKD617PeTQ6R",
        "outputId": "328bdde6-b177-4dc2-dd01-ecd0c1d8f6de"
      },
      "source": [
        "print(torch.__version__)"
      ],
      "execution_count": null,
      "outputs": [
        {
          "output_type": "stream",
          "text": [
            "1.8.1+cu101\n"
          ],
          "name": "stdout"
        }
      ]
    },
    {
      "cell_type": "code",
      "metadata": {
        "id": "G9tpqfRMRHtr"
      },
      "source": [
        "class QContour():\n",
        "    def __init__(self, data_points):\n",
        "        # data_points : nx2 numpy array\n",
        "        self.data = data_points\n",
        "        centerlize = self.data - self.data.mean(axis=0)\n",
        "        self.var, self.pc = np.linalg.eigh(np.dot(centerlize.T, centerlize))\n",
        "        self.pc_std = np.sqrt(self.var/len(self.data))\n",
        "        self.normal_data = torch.tensor(np.dot(centerlize, self.pc)/self.pc_std, dtype=torch.float32)\n",
        "        \n",
        "        self.region_bound = torch.nn.Linear(2, 4, bias=True)\n",
        "        self.region_bound.weight.data = torch.tensor([[0.3, 0.], [0., 0.3], [-0.3, 0.], [0., -0.3]])\n",
        "        self.region_bound.bias.data = torch.ones(4)\n",
        "        \n",
        "        self.totally_score = torch.nn.Linear(4, 1, bias=True)\n",
        "        self.totally_score.weight.data = torch.ones(1,4)\n",
        "        self.totally_score.bias.data = torch.tensor([-2.])\n",
        "    \n",
        "    def forward(self, x):\n",
        "        x = torch.sigmoid(self.region_bound(x))\n",
        "        x = torch.sigmoid(self.totally_score(x))\n",
        "        return x\n",
        "    \n",
        "    def fit(self, epoch, lr=1e-2, betas=(0.9, 0.999), weight_decay=0):\n",
        "        self.optimizer = torch.optim.Adam([self.region_bound.weight, self.region_bound.bias,\n",
        "                                           self.totally_score.bias],\n",
        "                                          lr=lr, betas=betas, weight_decay=weight_decay)\n",
        "        self.criterion = torch.nn.MSELoss()\n",
        "        for e in range(epoch):\n",
        "            self.optimizer.zero_grad()\n",
        "            datums = len(self.normal_data)\n",
        "            extend_input = torch.cat((self.normal_data, 8*torch.rand((int(0.2*datums), 2))-4), 0)\n",
        "            extend_label = torch.ones(int(1.2*datums), 1)\n",
        "            extend_label[datums:] *= 0\n",
        "            loss = self.criterion(self.forward(extend_input), extend_label)\n",
        "            loss.backward()\n",
        "            self.optimizer.step()\n",
        "    \n",
        "    def get_vertice(self):\n",
        "        output = torch.zeros(4,2)\n",
        "        for i in range(-4, 0):\n",
        "            raw_b = self.region_bound.bias.data[[i,i+1]]\n",
        "            b = torch.tensor([[t] for t in raw_b])\n",
        "            a = -self.region_bound.weight.data[[i,i+1]]\n",
        "            x, _ = torch.solve(b, a)\n",
        "            \n",
        "            output[i] = x[:,0]\n",
        "        \n",
        "        output = output.numpy()\n",
        "        output = np.dot(output*self.pc_std, self.pc.T) + self.data.mean(axis=0)\n",
        "        return output"
      ],
      "execution_count": null,
      "outputs": []
    },
    {
      "cell_type": "code",
      "metadata": {
        "id": "xZ1zJTOhsQQE"
      },
      "source": [
        "  def process_file(filename):\n",
        "    print(\"\\n\")\n",
        "    print(filename)\n",
        "    mask = np.load('input/' + filename)\n",
        "    result = []\n",
        "\n",
        "    arr = []\n",
        "    for i in range(len(mask)):\n",
        "      for j in range(len(mask[0])):\n",
        "        if mask[i][j] == True:\n",
        "          arr.append([j, i])\n",
        "\n",
        "    sample = np.array(arr)\n",
        "\n",
        "    foo = QContour(sample)\n",
        "    foo.fit(1000, lr=0.1, betas=(0., 0.999), weight_decay=0.0)\n",
        "    foo.criterion(foo.forward(torch.rand(4,2)), torch.ones(4,1))\n",
        "    fooo = foo.get_vertice()\n",
        "    result.append(fooo)\n",
        "    plt.figure(figsize=(8,8))\n",
        "    plt.plot(sample[:,0], sample[:,1], \"bp\")\n",
        "    plt.plot(fooo[[0,1,2,3,0],0], fooo[[0,1,2,3,0],1])\n",
        "    plt.show()\n",
        "\n",
        "    contour = np.array(result[0])\n",
        "    # print(\"Contour: \" + str(contour))\n",
        "\n",
        "    contour_for_cv2 = contour.copy()\n",
        "    contour_for_cv2 = np.append(contour_for_cv2, [contour_for_cv2[0]], axis = 0)\n",
        "    contour_for_cv2 = np.vectorize(lambda x: int(x))(contour_for_cv2)\n",
        "    # print(\"Contour for cv2: \" + str(contour_for_cv2))\n",
        "\n",
        "    all_mask_count = 0\n",
        "    in_counter_count = 0\n",
        "\n",
        "    for i in range(len(mask)):\n",
        "      for j in range(len(mask[0])):\n",
        "        if mask[i][j] == True:\n",
        "          all_mask_count += 1\n",
        "        dist = cv2.pointPolygonTest(contour_for_cv2, (j, i), False)\n",
        "        if dist >= 0.0:\n",
        "          in_counter_count += 1\n",
        "\n",
        "    print('All mask count: ' + str(all_mask_count) + \"  In counter: \" + str(in_counter_count))\n",
        "\n",
        "\n",
        "    np.save('output/%s' % filename, contour)\n",
        "\n",
        "    return all_mask_count > in_counter_count * 0.9"
      ],
      "execution_count": null,
      "outputs": []
    },
    {
      "cell_type": "code",
      "metadata": {
        "colab": {
          "base_uri": "https://localhost:8080/",
          "height": 1000
        },
        "id": "87ATdKPaRhpv",
        "outputId": "66a41234-80ff-4bee-bcad-8b340c272428"
      },
      "source": [
        "filenames = os.listdir('input/')\n",
        "print(filenames)\n",
        "\n",
        "for filename in filenames:\n",
        "  # пробуем несколько раз\n",
        "  for i in range(3):\n",
        "    if process_file(filename):\n",
        "      break"
      ],
      "execution_count": null,
      "outputs": [
        {
          "output_type": "stream",
          "text": [
            "['synthetic_14.npy', '882.npy', '952.npy', '234.npy', '159.npy', '312.npy', '613.npy', '714.npy', '545.npy', '475.npy', '872.npy', 'synthetic_3.npy', '778.npy', '733.npy', '.ipynb_checkpoints', '685.npy', '688.npy', '479.npy', '198.npy', '957.npy', '290.npy', 'synthetic_28.npy', 'synthetic_18.npy', '522.npy', '891.npy', '309.npy', '583.npy', 'synthetic_10.npy', 'synthetic_17.npy', '444.npy', '592.npy', '95.npy', '218.npy', '389.npy', 'synthetic_2.npy', 'synthetic_13.npy', 'synthetic_9.npy', '832.npy', '781.npy', '602.npy', '671.npy', '127.npy', 'synthetic_21.npy', '951.npy', 'synthetic_8.npy', '21.npy', '953.npy', '339.npy', '566.npy', 'synthetic_1.npy', 'synthetic_16.npy', '739.npy', '458.npy', 'synthetic_19.npy', '651.npy', '594.npy', '743.npy', 'synthetic_0.npy', '129.npy', 'synthetic_26.npy', '468.npy', '108.npy', '304.npy', 'synthetic_5.npy', '844.npy', 'synthetic_7.npy', '864.npy', 'synthetic_20.npy', 'synthetic_6.npy', 'synthetic_29.npy', '897.npy', 'synthetic_12.npy', '51.npy', 'synthetic_11.npy', '321.npy', '790.npy', '196.npy', '889.npy', '275.npy', '954.npy', '291.npy', '854.npy', 'synthetic_27.npy', '570.npy', '811.npy', '888.npy', '795.npy', 'synthetic_15.npy', '630.npy', '163.npy', 'synthetic_4.npy', '18.npy', '771.npy', '792.npy', 'synthetic_25.npy', 'synthetic_24.npy', '292.npy']\n",
            "\n",
            "\n",
            "synthetic_14.npy\n"
          ],
          "name": "stdout"
        },
        {
          "output_type": "display_data",
          "data": {
            "image/png": "[encoded data removed]",
            "text/plain": [
              "<Figure size 576x576 with 1 Axes>"
            ]
          },
          "metadata": {
            "tags": [],
            "needs_background": "light"
          }
        },
        {
          "output_type": "stream",
          "text": [
            "Contour: [[723.84434312 502.00590898]\n",
            " [731.84872012 349.62445738]\n",
            " [479.32766599 357.16221767]\n",
            " [486.50867628 514.33706667]]\n",
            "Contour for cv2: [[723 502]\n",
            " [731 349]\n",
            " [479 357]\n",
            " [486 514]\n",
            " [723 502]]\n",
            "All mask count: 35724  In counter: 37898\n",
            "\n",
            "\n",
            "882.npy\n"
          ],
          "name": "stdout"
        },
        {
          "output_type": "error",
          "ename": "KeyboardInterrupt",
          "evalue": "ignored",
          "traceback": [
            "\u001b[0;31m---------------------------------------------------------------------------\u001b[0m",
            "\u001b[0;31mKeyboardInterrupt\u001b[0m                         Traceback (most recent call last)",
            "\u001b[0;32m<ipython-input-61-ec6b3c4ebe9e>\u001b[0m in \u001b[0;36m<module>\u001b[0;34m()\u001b[0m\n\u001b[1;32m      7\u001b[0m   \u001b[0;31m# пробуем несколько раз\u001b[0m\u001b[0;34m\u001b[0m\u001b[0;34m\u001b[0m\u001b[0;34m\u001b[0m\u001b[0m\n\u001b[1;32m      8\u001b[0m   \u001b[0;32mfor\u001b[0m \u001b[0mi\u001b[0m \u001b[0;32min\u001b[0m \u001b[0mrange\u001b[0m\u001b[0;34m(\u001b[0m\u001b[0;36m3\u001b[0m\u001b[0;34m)\u001b[0m\u001b[0;34m:\u001b[0m\u001b[0;34m\u001b[0m\u001b[0;34m\u001b[0m\u001b[0m\n\u001b[0;32m----> 9\u001b[0;31m     \u001b[0;32mif\u001b[0m \u001b[0mprocess_file\u001b[0m\u001b[0;34m(\u001b[0m\u001b[0mfilename\u001b[0m\u001b[0;34m)\u001b[0m\u001b[0;34m:\u001b[0m\u001b[0;34m\u001b[0m\u001b[0;34m\u001b[0m\u001b[0m\n\u001b[0m\u001b[1;32m     10\u001b[0m       \u001b[0;32mbreak\u001b[0m\u001b[0;34m\u001b[0m\u001b[0;34m\u001b[0m\u001b[0m\n",
            "\u001b[0;32m<ipython-input-42-889cb06b292e>\u001b[0m in \u001b[0;36mprocess_file\u001b[0;34m(filename)\u001b[0m\n\u001b[1;32m     14\u001b[0m \u001b[0;34m\u001b[0m\u001b[0m\n\u001b[1;32m     15\u001b[0m   \u001b[0mfoo\u001b[0m \u001b[0;34m=\u001b[0m \u001b[0mQContour\u001b[0m\u001b[0;34m(\u001b[0m\u001b[0msample\u001b[0m\u001b[0;34m)\u001b[0m\u001b[0;34m\u001b[0m\u001b[0;34m\u001b[0m\u001b[0m\n\u001b[0;32m---> 16\u001b[0;31m   \u001b[0mfoo\u001b[0m\u001b[0;34m.\u001b[0m\u001b[0mfit\u001b[0m\u001b[0;34m(\u001b[0m\u001b[0;36m1000\u001b[0m\u001b[0;34m,\u001b[0m \u001b[0mlr\u001b[0m\u001b[0;34m=\u001b[0m\u001b[0;36m0.1\u001b[0m\u001b[0;34m,\u001b[0m \u001b[0mbetas\u001b[0m\u001b[0;34m=\u001b[0m\u001b[0;34m(\u001b[0m\u001b[0;36m0.\u001b[0m\u001b[0;34m,\u001b[0m \u001b[0;36m0.999\u001b[0m\u001b[0;34m)\u001b[0m\u001b[0;34m,\u001b[0m \u001b[0mweight_decay\u001b[0m\u001b[0;34m=\u001b[0m\u001b[0;36m0.0\u001b[0m\u001b[0;34m)\u001b[0m\u001b[0;34m\u001b[0m\u001b[0;34m\u001b[0m\u001b[0m\n\u001b[0m\u001b[1;32m     17\u001b[0m   \u001b[0mfoo\u001b[0m\u001b[0;34m.\u001b[0m\u001b[0mcriterion\u001b[0m\u001b[0;34m(\u001b[0m\u001b[0mfoo\u001b[0m\u001b[0;34m.\u001b[0m\u001b[0mforward\u001b[0m\u001b[0;34m(\u001b[0m\u001b[0mtorch\u001b[0m\u001b[0;34m.\u001b[0m\u001b[0mrand\u001b[0m\u001b[0;34m(\u001b[0m\u001b[0;36m4\u001b[0m\u001b[0;34m,\u001b[0m\u001b[0;36m2\u001b[0m\u001b[0;34m)\u001b[0m\u001b[0;34m)\u001b[0m\u001b[0;34m,\u001b[0m \u001b[0mtorch\u001b[0m\u001b[0;34m.\u001b[0m\u001b[0mones\u001b[0m\u001b[0;34m(\u001b[0m\u001b[0;36m4\u001b[0m\u001b[0;34m,\u001b[0m\u001b[0;36m1\u001b[0m\u001b[0;34m)\u001b[0m\u001b[0;34m)\u001b[0m\u001b[0;34m\u001b[0m\u001b[0;34m\u001b[0m\u001b[0m\n\u001b[1;32m     18\u001b[0m   \u001b[0mfooo\u001b[0m \u001b[0;34m=\u001b[0m \u001b[0mfoo\u001b[0m\u001b[0;34m.\u001b[0m\u001b[0mget_vertice\u001b[0m\u001b[0;34m(\u001b[0m\u001b[0;34m)\u001b[0m\u001b[0;34m\u001b[0m\u001b[0;34m\u001b[0m\u001b[0m\n",
            "\u001b[0;32m<ipython-input-3-4ed158e4ae6a>\u001b[0m in \u001b[0;36mfit\u001b[0;34m(self, epoch, lr, betas, weight_decay)\u001b[0m\n\u001b[1;32m     32\u001b[0m             \u001b[0mextend_label\u001b[0m \u001b[0;34m=\u001b[0m \u001b[0mtorch\u001b[0m\u001b[0;34m.\u001b[0m\u001b[0mones\u001b[0m\u001b[0;34m(\u001b[0m\u001b[0mint\u001b[0m\u001b[0;34m(\u001b[0m\u001b[0;36m1.2\u001b[0m\u001b[0;34m*\u001b[0m\u001b[0mdatums\u001b[0m\u001b[0;34m)\u001b[0m\u001b[0;34m,\u001b[0m \u001b[0;36m1\u001b[0m\u001b[0;34m)\u001b[0m\u001b[0;34m\u001b[0m\u001b[0;34m\u001b[0m\u001b[0m\n\u001b[1;32m     33\u001b[0m             \u001b[0mextend_label\u001b[0m\u001b[0;34m[\u001b[0m\u001b[0mdatums\u001b[0m\u001b[0;34m:\u001b[0m\u001b[0;34m]\u001b[0m \u001b[0;34m*=\u001b[0m \u001b[0;36m0\u001b[0m\u001b[0;34m\u001b[0m\u001b[0;34m\u001b[0m\u001b[0m\n\u001b[0;32m---> 34\u001b[0;31m             \u001b[0mloss\u001b[0m \u001b[0;34m=\u001b[0m \u001b[0mself\u001b[0m\u001b[0;34m.\u001b[0m\u001b[0mcriterion\u001b[0m\u001b[0;34m(\u001b[0m\u001b[0mself\u001b[0m\u001b[0;34m.\u001b[0m\u001b[0mforward\u001b[0m\u001b[0;34m(\u001b[0m\u001b[0mextend_input\u001b[0m\u001b[0;34m)\u001b[0m\u001b[0;34m,\u001b[0m \u001b[0mextend_label\u001b[0m\u001b[0;34m)\u001b[0m\u001b[0;34m\u001b[0m\u001b[0;34m\u001b[0m\u001b[0m\n\u001b[0m\u001b[1;32m     35\u001b[0m             \u001b[0mloss\u001b[0m\u001b[0;34m.\u001b[0m\u001b[0mbackward\u001b[0m\u001b[0;34m(\u001b[0m\u001b[0;34m)\u001b[0m\u001b[0;34m\u001b[0m\u001b[0;34m\u001b[0m\u001b[0m\n\u001b[1;32m     36\u001b[0m             \u001b[0mself\u001b[0m\u001b[0;34m.\u001b[0m\u001b[0moptimizer\u001b[0m\u001b[0;34m.\u001b[0m\u001b[0mstep\u001b[0m\u001b[0;34m(\u001b[0m\u001b[0;34m)\u001b[0m\u001b[0;34m\u001b[0m\u001b[0;34m\u001b[0m\u001b[0m\n",
            "\u001b[0;32m<ipython-input-3-4ed158e4ae6a>\u001b[0m in \u001b[0;36mforward\u001b[0;34m(self, x)\u001b[0m\n\u001b[1;32m     17\u001b[0m \u001b[0;34m\u001b[0m\u001b[0m\n\u001b[1;32m     18\u001b[0m     \u001b[0;32mdef\u001b[0m \u001b[0mforward\u001b[0m\u001b[0;34m(\u001b[0m\u001b[0mself\u001b[0m\u001b[0;34m,\u001b[0m \u001b[0mx\u001b[0m\u001b[0;34m)\u001b[0m\u001b[0;34m:\u001b[0m\u001b[0;34m\u001b[0m\u001b[0;34m\u001b[0m\u001b[0m\n\u001b[0;32m---> 19\u001b[0;31m         \u001b[0mx\u001b[0m \u001b[0;34m=\u001b[0m \u001b[0mtorch\u001b[0m\u001b[0;34m.\u001b[0m\u001b[0msigmoid\u001b[0m\u001b[0;34m(\u001b[0m\u001b[0mself\u001b[0m\u001b[0;34m.\u001b[0m\u001b[0mregion_bound\u001b[0m\u001b[0;34m(\u001b[0m\u001b[0mx\u001b[0m\u001b[0;34m)\u001b[0m\u001b[0;34m)\u001b[0m\u001b[0;34m\u001b[0m\u001b[0;34m\u001b[0m\u001b[0m\n\u001b[0m\u001b[1;32m     20\u001b[0m         \u001b[0mx\u001b[0m \u001b[0;34m=\u001b[0m \u001b[0mtorch\u001b[0m\u001b[0;34m.\u001b[0m\u001b[0msigmoid\u001b[0m\u001b[0;34m(\u001b[0m\u001b[0mself\u001b[0m\u001b[0;34m.\u001b[0m\u001b[0mtotally_score\u001b[0m\u001b[0;34m(\u001b[0m\u001b[0mx\u001b[0m\u001b[0;34m)\u001b[0m\u001b[0;34m)\u001b[0m\u001b[0;34m\u001b[0m\u001b[0;34m\u001b[0m\u001b[0m\n\u001b[1;32m     21\u001b[0m         \u001b[0;32mreturn\u001b[0m \u001b[0mx\u001b[0m\u001b[0;34m\u001b[0m\u001b[0;34m\u001b[0m\u001b[0m\n",
            "\u001b[0;31mKeyboardInterrupt\u001b[0m: "
          ]
        }
      ]
    }
  ]
}